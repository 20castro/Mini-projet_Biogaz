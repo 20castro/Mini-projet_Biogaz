{
 "cells": [
  {
   "cell_type": "markdown",
   "metadata": {},
   "source": [
    "# Estimation des gisements à partir des données cantonales"
   ]
  },
  {
   "cell_type": "markdown",
   "metadata": {},
   "source": [
    "### Modules"
   ]
  },
  {
   "cell_type": "code",
   "execution_count": 1,
   "metadata": {},
   "outputs": [],
   "source": [
    "import numpy as np\n",
    "import pandas as pd"
   ]
  },
  {
   "cell_type": "code",
   "execution_count": 2,
   "metadata": {},
   "outputs": [],
   "source": [
    "import geopandas as gpd\n",
    "import matplotlib\n",
    "import matplotlib.pyplot as plt\n",
    "from mpl_toolkits.axes_grid1 import make_axes_locatable\n",
    "\n",
    "from IPython.display import HTML"
   ]
  },
  {
   "cell_type": "markdown",
   "metadata": {},
   "source": [
    "### Données cantonales"
   ]
  },
  {
   "cell_type": "code",
   "execution_count": 3,
   "metadata": {},
   "outputs": [],
   "source": [
    "# Pour utiliser pd.read_excel, d'abord pip install xlrd\n",
    "\n",
    "canton = pd.read_excel('Potentiels.xlsx', sheet_name = 'Donnees_Canton', header = 13, index_col = 0)"
   ]
  },
  {
   "cell_type": "code",
   "execution_count": 4,
   "metadata": {},
   "outputs": [
    {
     "data": {
      "text/plain": [
       "(3703, 220)"
      ]
     },
     "execution_count": 4,
     "metadata": {},
     "output_type": "execute_result"
    }
   ],
   "source": [
    "canton.shape"
   ]
  },
  {
   "cell_type": "markdown",
   "metadata": {},
   "source": [
    "Les surfaces sont en hectares (1 km$^2$ = 100 ha), les rendements en quintal (= 0,1 t) par hectare et les productions en tonnes."
   ]
  },
  {
   "cell_type": "code",
   "execution_count": 5,
   "metadata": {},
   "outputs": [
    {
     "data": {
      "text/html": [
       "<div>\n",
       "<style scoped>\n",
       "    .dataframe tbody tr th:only-of-type {\n",
       "        vertical-align: middle;\n",
       "    }\n",
       "\n",
       "    .dataframe tbody tr th {\n",
       "        vertical-align: top;\n",
       "    }\n",
       "\n",
       "    .dataframe thead th {\n",
       "        text-align: right;\n",
       "    }\n",
       "</style>\n",
       "<table border=\"1\" class=\"dataframe\">\n",
       "  <thead>\n",
       "    <tr style=\"text-align: right;\">\n",
       "      <th></th>\n",
       "      <th>Nom.de.canton</th>\n",
       "      <th>Code_Departement</th>\n",
       "      <th>Nom_DPT</th>\n",
       "      <th>Code.Region</th>\n",
       "      <th>Nom.de.region</th>\n",
       "      <th>Intitule</th>\n",
       "      <th>Surface</th>\n",
       "      <th>Population 2010</th>\n",
       "      <th>SAU 2010</th>\n",
       "      <th>COP 2010</th>\n",
       "      <th>...</th>\n",
       "      <th>Evolution.effectifs.Brebis_mères_nourrices.2010-2050</th>\n",
       "      <th>Evolution.effectifs.Porcs.2010-2050</th>\n",
       "      <th>Evolution.effectifs.Poulets de chair.2010-2050</th>\n",
       "      <th>Evolution.effectifs.Poules pondeuses.2010-2050</th>\n",
       "      <th>Vaches_laitieres_2050</th>\n",
       "      <th>Vaches_allaitantes_2050</th>\n",
       "      <th>Brebis_mères_nourrices_2050</th>\n",
       "      <th>Porcs_2050</th>\n",
       "      <th>Poulets de chair_2050</th>\n",
       "      <th>Poules_pondeuses_2050</th>\n",
       "    </tr>\n",
       "    <tr>\n",
       "      <th>Canton</th>\n",
       "      <th></th>\n",
       "      <th></th>\n",
       "      <th></th>\n",
       "      <th></th>\n",
       "      <th></th>\n",
       "      <th></th>\n",
       "      <th></th>\n",
       "      <th></th>\n",
       "      <th></th>\n",
       "      <th></th>\n",
       "      <th></th>\n",
       "      <th></th>\n",
       "      <th></th>\n",
       "      <th></th>\n",
       "      <th></th>\n",
       "      <th></th>\n",
       "      <th></th>\n",
       "      <th></th>\n",
       "      <th></th>\n",
       "      <th></th>\n",
       "      <th></th>\n",
       "    </tr>\n",
       "  </thead>\n",
       "  <tbody>\n",
       "    <tr>\n",
       "      <th>0101</th>\n",
       "      <td>AMBERIEU-EN-BUGEY</td>\n",
       "      <td>01</td>\n",
       "      <td>AIN</td>\n",
       "      <td>82.0</td>\n",
       "      <td>Rhone-Alpes</td>\n",
       "      <td>NaN</td>\n",
       "      <td>10527.62</td>\n",
       "      <td>22809.0</td>\n",
       "      <td>4033.0</td>\n",
       "      <td>2729.0</td>\n",
       "      <td>...</td>\n",
       "      <td>1.2</td>\n",
       "      <td>0.6</td>\n",
       "      <td>0.62</td>\n",
       "      <td>0.78</td>\n",
       "      <td>40.277778</td>\n",
       "      <td>83.58</td>\n",
       "      <td>1092.0</td>\n",
       "      <td>0.6</td>\n",
       "      <td>0.62</td>\n",
       "      <td>105.30</td>\n",
       "    </tr>\n",
       "    <tr>\n",
       "      <th>0102</th>\n",
       "      <td>BAGE-LE-CHATEL</td>\n",
       "      <td>01</td>\n",
       "      <td>AIN</td>\n",
       "      <td>82.0</td>\n",
       "      <td>Rhone-Alpes</td>\n",
       "      <td>NaN</td>\n",
       "      <td>11416.39</td>\n",
       "      <td>15764.0</td>\n",
       "      <td>6588.0</td>\n",
       "      <td>2522.0</td>\n",
       "      <td>...</td>\n",
       "      <td>1.2</td>\n",
       "      <td>0.6</td>\n",
       "      <td>0.62</td>\n",
       "      <td>0.78</td>\n",
       "      <td>988.888889</td>\n",
       "      <td>235.62</td>\n",
       "      <td>405.6</td>\n",
       "      <td>2000.4</td>\n",
       "      <td>14093.84</td>\n",
       "      <td>211.38</td>\n",
       "    </tr>\n",
       "    <tr>\n",
       "      <th>0103</th>\n",
       "      <td>BELLEGARDE-SUR-VALSERINE</td>\n",
       "      <td>01</td>\n",
       "      <td>AIN</td>\n",
       "      <td>82.0</td>\n",
       "      <td>Rhone-Alpes</td>\n",
       "      <td>NaN</td>\n",
       "      <td>18527.29</td>\n",
       "      <td>18749.0</td>\n",
       "      <td>3428.0</td>\n",
       "      <td>305.0</td>\n",
       "      <td>...</td>\n",
       "      <td>1.2</td>\n",
       "      <td>0.6</td>\n",
       "      <td>0.62</td>\n",
       "      <td>0.78</td>\n",
       "      <td>498.611111</td>\n",
       "      <td>136.08</td>\n",
       "      <td>180.0</td>\n",
       "      <td>0.6</td>\n",
       "      <td>0.62</td>\n",
       "      <td>109.20</td>\n",
       "    </tr>\n",
       "    <tr>\n",
       "      <th>0104</th>\n",
       "      <td>BELLEY</td>\n",
       "      <td>01</td>\n",
       "      <td>AIN</td>\n",
       "      <td>82.0</td>\n",
       "      <td>Rhone-Alpes</td>\n",
       "      <td>NaN</td>\n",
       "      <td>21321.49</td>\n",
       "      <td>18306.0</td>\n",
       "      <td>6184.0</td>\n",
       "      <td>2618.0</td>\n",
       "      <td>...</td>\n",
       "      <td>1.2</td>\n",
       "      <td>0.6</td>\n",
       "      <td>0.62</td>\n",
       "      <td>0.78</td>\n",
       "      <td>498.611111</td>\n",
       "      <td>211.68</td>\n",
       "      <td>1500.0</td>\n",
       "      <td>0.6</td>\n",
       "      <td>0.62</td>\n",
       "      <td>436.02</td>\n",
       "    </tr>\n",
       "    <tr>\n",
       "      <th>0106</th>\n",
       "      <td>BRENOD</td>\n",
       "      <td>01</td>\n",
       "      <td>AIN</td>\n",
       "      <td>82.0</td>\n",
       "      <td>Rhone-Alpes</td>\n",
       "      <td>NaN</td>\n",
       "      <td>19933.90</td>\n",
       "      <td>3740.0</td>\n",
       "      <td>5363.0</td>\n",
       "      <td>253.0</td>\n",
       "      <td>...</td>\n",
       "      <td>1.2</td>\n",
       "      <td>0.6</td>\n",
       "      <td>0.62</td>\n",
       "      <td>0.78</td>\n",
       "      <td>741.666667</td>\n",
       "      <td>346.50</td>\n",
       "      <td>1030.8</td>\n",
       "      <td>0.6</td>\n",
       "      <td>0.62</td>\n",
       "      <td>57.72</td>\n",
       "    </tr>\n",
       "  </tbody>\n",
       "</table>\n",
       "<p>5 rows × 220 columns</p>\n",
       "</div>"
      ],
      "text/plain": [
       "                   Nom.de.canton Code_Departement Nom_DPT  Code.Region  \\\n",
       "Canton                                                                   \n",
       "0101           AMBERIEU-EN-BUGEY               01     AIN         82.0   \n",
       "0102              BAGE-LE-CHATEL               01     AIN         82.0   \n",
       "0103    BELLEGARDE-SUR-VALSERINE               01     AIN         82.0   \n",
       "0104                      BELLEY               01     AIN         82.0   \n",
       "0106                      BRENOD               01     AIN         82.0   \n",
       "\n",
       "       Nom.de.region Intitule   Surface  Population 2010  SAU 2010  COP 2010  \\\n",
       "Canton                                                                         \n",
       "0101     Rhone-Alpes      NaN  10527.62          22809.0    4033.0    2729.0   \n",
       "0102     Rhone-Alpes      NaN  11416.39          15764.0    6588.0    2522.0   \n",
       "0103     Rhone-Alpes      NaN  18527.29          18749.0    3428.0     305.0   \n",
       "0104     Rhone-Alpes      NaN  21321.49          18306.0    6184.0    2618.0   \n",
       "0106     Rhone-Alpes      NaN  19933.90           3740.0    5363.0     253.0   \n",
       "\n",
       "        ... Evolution.effectifs.Brebis_mères_nourrices.2010-2050  \\\n",
       "Canton  ...                                                        \n",
       "0101    ...                                                1.2     \n",
       "0102    ...                                                1.2     \n",
       "0103    ...                                                1.2     \n",
       "0104    ...                                                1.2     \n",
       "0106    ...                                                1.2     \n",
       "\n",
       "       Evolution.effectifs.Porcs.2010-2050  \\\n",
       "Canton                                       \n",
       "0101                                   0.6   \n",
       "0102                                   0.6   \n",
       "0103                                   0.6   \n",
       "0104                                   0.6   \n",
       "0106                                   0.6   \n",
       "\n",
       "       Evolution.effectifs.Poulets de chair.2010-2050  \\\n",
       "Canton                                                  \n",
       "0101                                             0.62   \n",
       "0102                                             0.62   \n",
       "0103                                             0.62   \n",
       "0104                                             0.62   \n",
       "0106                                             0.62   \n",
       "\n",
       "       Evolution.effectifs.Poules pondeuses.2010-2050 Vaches_laitieres_2050  \\\n",
       "Canton                                                                        \n",
       "0101                                             0.78             40.277778   \n",
       "0102                                             0.78            988.888889   \n",
       "0103                                             0.78            498.611111   \n",
       "0104                                             0.78            498.611111   \n",
       "0106                                             0.78            741.666667   \n",
       "\n",
       "       Vaches_allaitantes_2050 Brebis_mères_nourrices_2050 Porcs_2050  \\\n",
       "Canton                                                                  \n",
       "0101                     83.58                      1092.0        0.6   \n",
       "0102                    235.62                       405.6     2000.4   \n",
       "0103                    136.08                       180.0        0.6   \n",
       "0104                    211.68                      1500.0        0.6   \n",
       "0106                    346.50                      1030.8        0.6   \n",
       "\n",
       "       Poulets de chair_2050 Poules_pondeuses_2050  \n",
       "Canton                                              \n",
       "0101                    0.62                105.30  \n",
       "0102                14093.84                211.38  \n",
       "0103                    0.62                109.20  \n",
       "0104                    0.62                436.02  \n",
       "0106                    0.62                 57.72  \n",
       "\n",
       "[5 rows x 220 columns]"
      ]
     },
     "execution_count": 5,
     "metadata": {},
     "output_type": "execute_result"
    }
   ],
   "source": [
    "canton.head(5)"
   ]
  },
  {
   "cell_type": "markdown",
   "metadata": {},
   "source": [
    "## Surfaces et rendements"
   ]
  },
  {
   "cell_type": "markdown",
   "metadata": {},
   "source": [
    "Blé tendre, Blé dur, Triticale, Maïs grain, Maïs ensillage, Orge, Avoine, Sorgho, Seigle, Betterave, Pomme de terre,\n",
    "Tournesol, Colza et Soja"
   ]
  },
  {
   "cell_type": "code",
   "execution_count": 6,
   "metadata": {},
   "outputs": [],
   "source": [
    "canton = canton.iloc[:3689:, :] # les dernières lignes sont non renseignées"
   ]
  },
  {
   "cell_type": "code",
   "execution_count": 7,
   "metadata": {},
   "outputs": [],
   "source": [
    "surf2010 = canton.iloc[:, 10:24:].copy()\n",
    "rend2010 = canton.iloc[:, 24:38:].copy()\n",
    "surf2050 = canton.iloc[:, 66:80:].copy()\n",
    "rend2050 = canton.iloc[:, 94:108:].copy()"
   ]
  },
  {
   "cell_type": "code",
   "execution_count": 8,
   "metadata": {},
   "outputs": [],
   "source": [
    "# Renommage nécessaire pour des opérations de comparaisons\n",
    "\n",
    "head_list = ['Ble_tendre', 'Ble_dur', 'Triticale', 'Mais_grain', 'Mais_ensilage', 'Orge', 'Avoine',\n",
    "            'Sorgho', 'Seigle', 'Betterave', 'Pomme_de_terre', 'Tournesol', 'Colza', 'Soja']\n",
    "\n",
    "for i, col in enumerate(surf2010):\n",
    "    surf2010.rename(columns = {col : head_list[i]}, inplace = True)\n",
    "for i, col in enumerate(surf2050):\n",
    "    surf2050.rename(columns = {col : head_list[i]}, inplace = True)\n",
    "for i, col in enumerate(rend2010):\n",
    "    rend2010.rename(columns = {col : head_list[i]}, inplace = True)\n",
    "for i, col in enumerate(rend2050):\n",
    "    rend2050.rename(columns = {col : head_list[i]}, inplace = True)"
   ]
  },
  {
   "cell_type": "code",
   "execution_count": 9,
   "metadata": {},
   "outputs": [
    {
     "data": {
      "text/html": [
       "<div>\n",
       "<style scoped>\n",
       "    .dataframe tbody tr th:only-of-type {\n",
       "        vertical-align: middle;\n",
       "    }\n",
       "\n",
       "    .dataframe tbody tr th {\n",
       "        vertical-align: top;\n",
       "    }\n",
       "\n",
       "    .dataframe thead th {\n",
       "        text-align: right;\n",
       "    }\n",
       "</style>\n",
       "<table border=\"1\" class=\"dataframe\">\n",
       "  <thead>\n",
       "    <tr style=\"text-align: right;\">\n",
       "      <th></th>\n",
       "      <th>Ble_tendre</th>\n",
       "      <th>Ble_dur</th>\n",
       "      <th>Triticale</th>\n",
       "      <th>Mais_grain</th>\n",
       "      <th>Mais_ensilage</th>\n",
       "      <th>Orge</th>\n",
       "      <th>Avoine</th>\n",
       "      <th>Sorgho</th>\n",
       "      <th>Seigle</th>\n",
       "      <th>Betterave</th>\n",
       "      <th>Pomme_de_terre</th>\n",
       "      <th>Tournesol</th>\n",
       "      <th>Colza</th>\n",
       "      <th>Soja</th>\n",
       "    </tr>\n",
       "    <tr>\n",
       "      <th>Canton</th>\n",
       "      <th></th>\n",
       "      <th></th>\n",
       "      <th></th>\n",
       "      <th></th>\n",
       "      <th></th>\n",
       "      <th></th>\n",
       "      <th></th>\n",
       "      <th></th>\n",
       "      <th></th>\n",
       "      <th></th>\n",
       "      <th></th>\n",
       "      <th></th>\n",
       "      <th></th>\n",
       "      <th></th>\n",
       "    </tr>\n",
       "  </thead>\n",
       "  <tbody>\n",
       "    <tr>\n",
       "      <th>0101</th>\n",
       "      <td>728</td>\n",
       "      <td>0</td>\n",
       "      <td>0</td>\n",
       "      <td>1103</td>\n",
       "      <td>0</td>\n",
       "      <td>210</td>\n",
       "      <td>0</td>\n",
       "      <td>58</td>\n",
       "      <td>0</td>\n",
       "      <td>0</td>\n",
       "      <td>0</td>\n",
       "      <td>318</td>\n",
       "      <td>96</td>\n",
       "      <td>194</td>\n",
       "    </tr>\n",
       "    <tr>\n",
       "      <th>0102</th>\n",
       "      <td>730</td>\n",
       "      <td>0</td>\n",
       "      <td>164</td>\n",
       "      <td>1376</td>\n",
       "      <td>470</td>\n",
       "      <td>130</td>\n",
       "      <td>0</td>\n",
       "      <td>0</td>\n",
       "      <td>0</td>\n",
       "      <td>0</td>\n",
       "      <td>129</td>\n",
       "      <td>42</td>\n",
       "      <td>0</td>\n",
       "      <td>0</td>\n",
       "    </tr>\n",
       "    <tr>\n",
       "      <th>0103</th>\n",
       "      <td>116</td>\n",
       "      <td>0</td>\n",
       "      <td>96</td>\n",
       "      <td>6</td>\n",
       "      <td>0</td>\n",
       "      <td>64</td>\n",
       "      <td>22</td>\n",
       "      <td>0</td>\n",
       "      <td>0</td>\n",
       "      <td>0</td>\n",
       "      <td>0</td>\n",
       "      <td>0</td>\n",
       "      <td>0</td>\n",
       "      <td>0</td>\n",
       "    </tr>\n",
       "    <tr>\n",
       "      <th>0104</th>\n",
       "      <td>327</td>\n",
       "      <td>0</td>\n",
       "      <td>89</td>\n",
       "      <td>1687</td>\n",
       "      <td>138</td>\n",
       "      <td>122</td>\n",
       "      <td>0</td>\n",
       "      <td>0</td>\n",
       "      <td>0</td>\n",
       "      <td>0</td>\n",
       "      <td>0</td>\n",
       "      <td>145</td>\n",
       "      <td>34</td>\n",
       "      <td>194</td>\n",
       "    </tr>\n",
       "    <tr>\n",
       "      <th>0106</th>\n",
       "      <td>46</td>\n",
       "      <td>0</td>\n",
       "      <td>123</td>\n",
       "      <td>7</td>\n",
       "      <td>0</td>\n",
       "      <td>50</td>\n",
       "      <td>0</td>\n",
       "      <td>0</td>\n",
       "      <td>9</td>\n",
       "      <td>0</td>\n",
       "      <td>0</td>\n",
       "      <td>0</td>\n",
       "      <td>13</td>\n",
       "      <td>0</td>\n",
       "    </tr>\n",
       "    <tr>\n",
       "      <th>...</th>\n",
       "      <td>...</td>\n",
       "      <td>...</td>\n",
       "      <td>...</td>\n",
       "      <td>...</td>\n",
       "      <td>...</td>\n",
       "      <td>...</td>\n",
       "      <td>...</td>\n",
       "      <td>...</td>\n",
       "      <td>...</td>\n",
       "      <td>...</td>\n",
       "      <td>...</td>\n",
       "      <td>...</td>\n",
       "      <td>...</td>\n",
       "      <td>...</td>\n",
       "    </tr>\n",
       "    <tr>\n",
       "      <th>9540</th>\n",
       "      <td>NaN</td>\n",
       "      <td>NaN</td>\n",
       "      <td>NaN</td>\n",
       "      <td>NaN</td>\n",
       "      <td>NaN</td>\n",
       "      <td>NaN</td>\n",
       "      <td>NaN</td>\n",
       "      <td>NaN</td>\n",
       "      <td>NaN</td>\n",
       "      <td>NaN</td>\n",
       "      <td>NaN</td>\n",
       "      <td>NaN</td>\n",
       "      <td>NaN</td>\n",
       "      <td>NaN</td>\n",
       "    </tr>\n",
       "    <tr>\n",
       "      <th>9596</th>\n",
       "      <td>0</td>\n",
       "      <td>0</td>\n",
       "      <td>0</td>\n",
       "      <td>48</td>\n",
       "      <td>0</td>\n",
       "      <td>0</td>\n",
       "      <td>0</td>\n",
       "      <td>0</td>\n",
       "      <td>0</td>\n",
       "      <td>0</td>\n",
       "      <td>15</td>\n",
       "      <td>0</td>\n",
       "      <td>0</td>\n",
       "      <td>0</td>\n",
       "    </tr>\n",
       "    <tr>\n",
       "      <th>9597</th>\n",
       "      <td>0</td>\n",
       "      <td>0</td>\n",
       "      <td>0</td>\n",
       "      <td>0</td>\n",
       "      <td>0</td>\n",
       "      <td>0</td>\n",
       "      <td>0</td>\n",
       "      <td>0</td>\n",
       "      <td>0</td>\n",
       "      <td>0</td>\n",
       "      <td>0</td>\n",
       "      <td>0</td>\n",
       "      <td>0</td>\n",
       "      <td>0</td>\n",
       "    </tr>\n",
       "    <tr>\n",
       "      <th>9598</th>\n",
       "      <td>0</td>\n",
       "      <td>0</td>\n",
       "      <td>0</td>\n",
       "      <td>0</td>\n",
       "      <td>0</td>\n",
       "      <td>0</td>\n",
       "      <td>0</td>\n",
       "      <td>0</td>\n",
       "      <td>0</td>\n",
       "      <td>0</td>\n",
       "      <td>0</td>\n",
       "      <td>0</td>\n",
       "      <td>0</td>\n",
       "      <td>0</td>\n",
       "    </tr>\n",
       "    <tr>\n",
       "      <th>9599</th>\n",
       "      <td>0</td>\n",
       "      <td>0</td>\n",
       "      <td>0</td>\n",
       "      <td>0</td>\n",
       "      <td>0</td>\n",
       "      <td>0</td>\n",
       "      <td>0</td>\n",
       "      <td>0</td>\n",
       "      <td>0</td>\n",
       "      <td>0</td>\n",
       "      <td>0</td>\n",
       "      <td>0</td>\n",
       "      <td>0</td>\n",
       "      <td>0</td>\n",
       "    </tr>\n",
       "  </tbody>\n",
       "</table>\n",
       "<p>3689 rows × 14 columns</p>\n",
       "</div>"
      ],
      "text/plain": [
       "       Ble_tendre Ble_dur Triticale Mais_grain Mais_ensilage Orge Avoine  \\\n",
       "Canton                                                                     \n",
       "0101          728       0         0       1103             0  210      0   \n",
       "0102          730       0       164       1376           470  130      0   \n",
       "0103          116       0        96          6             0   64     22   \n",
       "0104          327       0        89       1687           138  122      0   \n",
       "0106           46       0       123          7             0   50      0   \n",
       "...           ...     ...       ...        ...           ...  ...    ...   \n",
       "9540          NaN     NaN       NaN        NaN           NaN  NaN    NaN   \n",
       "9596            0       0         0         48             0    0      0   \n",
       "9597            0       0         0          0             0    0      0   \n",
       "9598            0       0         0          0             0    0      0   \n",
       "9599            0       0         0          0             0    0      0   \n",
       "\n",
       "       Sorgho Seigle Betterave Pomme_de_terre Tournesol Colza Soja  \n",
       "Canton                                                              \n",
       "0101       58      0         0              0       318    96  194  \n",
       "0102        0      0         0            129        42     0    0  \n",
       "0103        0      0         0              0         0     0    0  \n",
       "0104        0      0         0              0       145    34  194  \n",
       "0106        0      9         0              0         0    13    0  \n",
       "...       ...    ...       ...            ...       ...   ...  ...  \n",
       "9540      NaN    NaN       NaN            NaN       NaN   NaN  NaN  \n",
       "9596        0      0         0             15         0     0    0  \n",
       "9597        0      0         0              0         0     0    0  \n",
       "9598        0      0         0              0         0     0    0  \n",
       "9599        0      0         0              0         0     0    0  \n",
       "\n",
       "[3689 rows x 14 columns]"
      ]
     },
     "execution_count": 9,
     "metadata": {},
     "output_type": "execute_result"
    }
   ],
   "source": [
    "surf2010"
   ]
  },
  {
   "cell_type": "code",
   "execution_count": 10,
   "metadata": {},
   "outputs": [
    {
     "data": {
      "text/plain": [
       "Ble_tendre        -19.7\n",
       "Ble_dur           -30.7\n",
       "Triticale         -12.3\n",
       "Mais_grain        -19.9\n",
       "Mais_ensilage     -76.5\n",
       "Orge              -24.2\n",
       "Avoine            -20.3\n",
       "Sorgho            -25.3\n",
       "Seigle            -15.7\n",
       "Betterave           2.2\n",
       "Pomme_de_terre    -21.6\n",
       "Tournesol         -10.3\n",
       "Colza             -15.1\n",
       "Soja              546.1\n",
       "dtype: float64"
      ]
     },
     "execution_count": 10,
     "metadata": {},
     "output_type": "execute_result"
    }
   ],
   "source": [
    "# Evolution de la production\n",
    "\n",
    "production2010 = surf2010*rend2010 / 10 # conversion en tonne\n",
    "production2050 = surf2050*rend2050 / 10\n",
    "delta = production2050.sum(axis = 0) - production2010.sum(axis = 0)\n",
    "delta_relatif = delta / production2010.sum(axis = 0)\n",
    "(delta_relatif * 100).round(1) # en pourcents"
   ]
  },
  {
   "cell_type": "code",
   "execution_count": 11,
   "metadata": {},
   "outputs": [
    {
     "data": {
      "text/plain": [
       "Ble_tendre       -0.180561\n",
       "Ble_dur          -0.231172\n",
       "Triticale        -0.263375\n",
       "Mais_grain       -0.189227\n",
       "Mais_ensilage    -0.148254\n",
       "Orge             -0.235890\n",
       "Avoine           -0.247566\n",
       "Sorgho           -0.222428\n",
       "Seigle           -0.256546\n",
       "Betterave        -0.007143\n",
       "Pomme_de_terre   -0.206532\n",
       "Tournesol        -0.091656\n",
       "Colza            -0.191460\n",
       "Soja             -0.384299\n",
       "dtype: float64"
      ]
     },
     "execution_count": 11,
     "metadata": {},
     "output_type": "execute_result"
    }
   ],
   "source": [
    "# Evolution du rendement\n",
    "\n",
    "moy10 = production2010.sum(axis = 0) / surf2010.sum(axis = 0) # en tonnes par hectare\n",
    "moy50 = production2050.sum(axis = 0) / surf2050.sum(axis = 0) # en tonnes par hectare\n",
    "\n",
    "delta_rend = (moy50 - moy10) / moy10\n",
    "moy_rend = delta_rend.mean(axis = 0) * 100 # en pourcents\n",
    "et_rend = delta_rend.std(axis = 0) * 100 # en pourcents\n",
    "\n",
    "delta_rend"
   ]
  },
  {
   "cell_type": "code",
   "execution_count": 12,
   "metadata": {},
   "outputs": [
    {
     "name": "stdout",
     "output_type": "stream",
     "text": [
      "-20.4 +/- 8.7 %\n"
     ]
    }
   ],
   "source": [
    "# Moyenne et incertitude\n",
    "\n",
    "print(f'{moy_rend.round(1)} +/- {et_rend.round(1)} %')"
   ]
  },
  {
   "cell_type": "markdown",
   "metadata": {},
   "source": [
    "Une baisse de rendement moyen de 17% paraît ici encore optimiste."
   ]
  },
  {
   "cell_type": "code",
   "execution_count": 13,
   "metadata": {},
   "outputs": [
    {
     "data": {
      "text/plain": [
       "-14.3"
      ]
     },
     "execution_count": 13,
     "metadata": {},
     "output_type": "execute_result"
    }
   ],
   "source": [
    "# Evolution du rendement pondéré par la production\n",
    "\n",
    "poids = production2010.sum(axis = 0) / production2010.sum(axis = 0).sum()\n",
    "tabp = delta_rend * poids\n",
    "(tabp.sum() * 100).round(1)"
   ]
  },
  {
   "cell_type": "code",
   "execution_count": 14,
   "metadata": {},
   "outputs": [
    {
     "data": {
      "text/plain": [
       "-17.351148155793084"
      ]
     },
     "execution_count": 14,
     "metadata": {},
     "output_type": "execute_result"
    }
   ],
   "source": [
    "# Plus simplement : production totale / surface totale\n",
    "\n",
    "rm10 = production2010.sum(axis = 0).sum() / surf2010.sum(axis = 0).sum()\n",
    "rm50 = production2050.sum(axis = 0).sum() / surf2050.sum(axis = 0).sum()\n",
    "\n",
    "100 * (rm50 - rm10) / rm10 # en pourcents"
   ]
  },
  {
   "cell_type": "markdown",
   "metadata": {},
   "source": [
    "Ce chiffre de 17% reste donc cohérent."
   ]
  },
  {
   "cell_type": "code",
   "execution_count": null,
   "metadata": {},
   "outputs": [],
   "source": []
  },
  {
   "cell_type": "markdown",
   "metadata": {},
   "source": [
    "## Résidus de culture"
   ]
  },
  {
   "cell_type": "markdown",
   "metadata": {},
   "source": [
    "Résidus de culture pour le maïs fourrage et les pomme de terre et paille pour le reste (en tonnes)."
   ]
  },
  {
   "cell_type": "code",
   "execution_count": 15,
   "metadata": {},
   "outputs": [],
   "source": [
    "res2010 = canton.iloc[:, 140:154:].copy()\n",
    "res2050 = canton.iloc[:, 154:168:].copy()"
   ]
  },
  {
   "cell_type": "code",
   "execution_count": 16,
   "metadata": {},
   "outputs": [],
   "source": [
    "for i, col in enumerate(res2010):\n",
    "    res2010.rename(columns = {col : head_list[i]}, inplace = True)\n",
    "for i, col in enumerate(res2050):\n",
    "    res2050.rename(columns = {col : head_list[i]}, inplace = True)"
   ]
  },
  {
   "cell_type": "code",
   "execution_count": 17,
   "metadata": {},
   "outputs": [
    {
     "data": {
      "text/html": [
       "<div>\n",
       "<style scoped>\n",
       "    .dataframe tbody tr th:only-of-type {\n",
       "        vertical-align: middle;\n",
       "    }\n",
       "\n",
       "    .dataframe tbody tr th {\n",
       "        vertical-align: top;\n",
       "    }\n",
       "\n",
       "    .dataframe thead th {\n",
       "        text-align: right;\n",
       "    }\n",
       "</style>\n",
       "<table border=\"1\" class=\"dataframe\">\n",
       "  <thead>\n",
       "    <tr style=\"text-align: right;\">\n",
       "      <th></th>\n",
       "      <th>Ble_tendre</th>\n",
       "      <th>Ble_dur</th>\n",
       "      <th>Triticale</th>\n",
       "      <th>Mais_grain</th>\n",
       "      <th>Mais_ensilage</th>\n",
       "      <th>Orge</th>\n",
       "      <th>Avoine</th>\n",
       "      <th>Sorgho</th>\n",
       "      <th>Seigle</th>\n",
       "      <th>Betterave</th>\n",
       "      <th>Pomme_de_terre</th>\n",
       "      <th>Tournesol</th>\n",
       "      <th>Colza</th>\n",
       "      <th>Soja</th>\n",
       "    </tr>\n",
       "    <tr>\n",
       "      <th>Canton</th>\n",
       "      <th></th>\n",
       "      <th></th>\n",
       "      <th></th>\n",
       "      <th></th>\n",
       "      <th></th>\n",
       "      <th></th>\n",
       "      <th></th>\n",
       "      <th></th>\n",
       "      <th></th>\n",
       "      <th></th>\n",
       "      <th></th>\n",
       "      <th></th>\n",
       "      <th></th>\n",
       "      <th></th>\n",
       "    </tr>\n",
       "  </thead>\n",
       "  <tbody>\n",
       "    <tr>\n",
       "      <th>0101</th>\n",
       "      <td>2743.23</td>\n",
       "      <td>0</td>\n",
       "      <td>0</td>\n",
       "      <td>6161.18</td>\n",
       "      <td>0</td>\n",
       "      <td>646.413</td>\n",
       "      <td>0</td>\n",
       "      <td>292.56</td>\n",
       "      <td>0</td>\n",
       "      <td>0</td>\n",
       "      <td>0</td>\n",
       "      <td>1003.52</td>\n",
       "      <td>384.777</td>\n",
       "      <td>7438.21</td>\n",
       "    </tr>\n",
       "    <tr>\n",
       "      <th>0102</th>\n",
       "      <td>2750.77</td>\n",
       "      <td>0</td>\n",
       "      <td>615.42</td>\n",
       "      <td>7686.11</td>\n",
       "      <td>97.6591</td>\n",
       "      <td>400.16</td>\n",
       "      <td>0</td>\n",
       "      <td>0</td>\n",
       "      <td>0</td>\n",
       "      <td>0</td>\n",
       "      <td>162.118</td>\n",
       "      <td>132.54</td>\n",
       "      <td>0</td>\n",
       "      <td>0</td>\n",
       "    </tr>\n",
       "    <tr>\n",
       "      <th>0103</th>\n",
       "      <td>437.108</td>\n",
       "      <td>0</td>\n",
       "      <td>360.246</td>\n",
       "      <td>33.515</td>\n",
       "      <td>0</td>\n",
       "      <td>197.002</td>\n",
       "      <td>64.1757</td>\n",
       "      <td>0</td>\n",
       "      <td>0</td>\n",
       "      <td>0</td>\n",
       "      <td>0</td>\n",
       "      <td>0</td>\n",
       "      <td>0</td>\n",
       "      <td>0</td>\n",
       "    </tr>\n",
       "    <tr>\n",
       "      <th>0104</th>\n",
       "      <td>1446.26</td>\n",
       "      <td>0</td>\n",
       "      <td>337.85</td>\n",
       "      <td>8781.9</td>\n",
       "      <td>28.8307</td>\n",
       "      <td>429.269</td>\n",
       "      <td>0</td>\n",
       "      <td>0</td>\n",
       "      <td>0</td>\n",
       "      <td>0</td>\n",
       "      <td>0</td>\n",
       "      <td>549.803</td>\n",
       "      <td>149.682</td>\n",
       "      <td>6661.47</td>\n",
       "    </tr>\n",
       "    <tr>\n",
       "      <th>0106</th>\n",
       "      <td>203.449</td>\n",
       "      <td>0</td>\n",
       "      <td>466.917</td>\n",
       "      <td>36.4394</td>\n",
       "      <td>0</td>\n",
       "      <td>175.93</td>\n",
       "      <td>0</td>\n",
       "      <td>0</td>\n",
       "      <td>24.3617</td>\n",
       "      <td>0</td>\n",
       "      <td>0</td>\n",
       "      <td>0</td>\n",
       "      <td>57.2314</td>\n",
       "      <td>0</td>\n",
       "    </tr>\n",
       "    <tr>\n",
       "      <th>...</th>\n",
       "      <td>...</td>\n",
       "      <td>...</td>\n",
       "      <td>...</td>\n",
       "      <td>...</td>\n",
       "      <td>...</td>\n",
       "      <td>...</td>\n",
       "      <td>...</td>\n",
       "      <td>...</td>\n",
       "      <td>...</td>\n",
       "      <td>...</td>\n",
       "      <td>...</td>\n",
       "      <td>...</td>\n",
       "      <td>...</td>\n",
       "      <td>...</td>\n",
       "    </tr>\n",
       "    <tr>\n",
       "      <th>9540</th>\n",
       "      <td>0</td>\n",
       "      <td>0</td>\n",
       "      <td>0</td>\n",
       "      <td>0</td>\n",
       "      <td>0</td>\n",
       "      <td>0</td>\n",
       "      <td>0</td>\n",
       "      <td>0</td>\n",
       "      <td>0</td>\n",
       "      <td>0</td>\n",
       "      <td>0</td>\n",
       "      <td>0</td>\n",
       "      <td>0</td>\n",
       "      <td>0</td>\n",
       "    </tr>\n",
       "    <tr>\n",
       "      <th>9596</th>\n",
       "      <td>0</td>\n",
       "      <td>0</td>\n",
       "      <td>0</td>\n",
       "      <td>268.557</td>\n",
       "      <td>0</td>\n",
       "      <td>0</td>\n",
       "      <td>0</td>\n",
       "      <td>0</td>\n",
       "      <td>0</td>\n",
       "      <td>0</td>\n",
       "      <td>33.5449</td>\n",
       "      <td>0</td>\n",
       "      <td>0</td>\n",
       "      <td>0</td>\n",
       "    </tr>\n",
       "    <tr>\n",
       "      <th>9597</th>\n",
       "      <td>0</td>\n",
       "      <td>0</td>\n",
       "      <td>0</td>\n",
       "      <td>0</td>\n",
       "      <td>0</td>\n",
       "      <td>0</td>\n",
       "      <td>0</td>\n",
       "      <td>0</td>\n",
       "      <td>0</td>\n",
       "      <td>0</td>\n",
       "      <td>0</td>\n",
       "      <td>0</td>\n",
       "      <td>0</td>\n",
       "      <td>0</td>\n",
       "    </tr>\n",
       "    <tr>\n",
       "      <th>9598</th>\n",
       "      <td>0</td>\n",
       "      <td>0</td>\n",
       "      <td>0</td>\n",
       "      <td>0</td>\n",
       "      <td>0</td>\n",
       "      <td>0</td>\n",
       "      <td>0</td>\n",
       "      <td>0</td>\n",
       "      <td>0</td>\n",
       "      <td>0</td>\n",
       "      <td>0</td>\n",
       "      <td>0</td>\n",
       "      <td>0</td>\n",
       "      <td>0</td>\n",
       "    </tr>\n",
       "    <tr>\n",
       "      <th>9599</th>\n",
       "      <td>0</td>\n",
       "      <td>0</td>\n",
       "      <td>0</td>\n",
       "      <td>0</td>\n",
       "      <td>0</td>\n",
       "      <td>0</td>\n",
       "      <td>0</td>\n",
       "      <td>0</td>\n",
       "      <td>0</td>\n",
       "      <td>0</td>\n",
       "      <td>0</td>\n",
       "      <td>0</td>\n",
       "      <td>0</td>\n",
       "      <td>0</td>\n",
       "    </tr>\n",
       "  </tbody>\n",
       "</table>\n",
       "<p>3689 rows × 14 columns</p>\n",
       "</div>"
      ],
      "text/plain": [
       "       Ble_tendre Ble_dur Triticale Mais_grain Mais_ensilage     Orge  \\\n",
       "Canton                                                                  \n",
       "0101      2743.23       0         0    6161.18             0  646.413   \n",
       "0102      2750.77       0    615.42    7686.11       97.6591   400.16   \n",
       "0103      437.108       0   360.246     33.515             0  197.002   \n",
       "0104      1446.26       0    337.85     8781.9       28.8307  429.269   \n",
       "0106      203.449       0   466.917    36.4394             0   175.93   \n",
       "...           ...     ...       ...        ...           ...      ...   \n",
       "9540            0       0         0          0             0        0   \n",
       "9596            0       0         0    268.557             0        0   \n",
       "9597            0       0         0          0             0        0   \n",
       "9598            0       0         0          0             0        0   \n",
       "9599            0       0         0          0             0        0   \n",
       "\n",
       "         Avoine  Sorgho   Seigle Betterave Pomme_de_terre Tournesol    Colza  \\\n",
       "Canton                                                                         \n",
       "0101          0  292.56        0         0              0   1003.52  384.777   \n",
       "0102          0       0        0         0        162.118    132.54        0   \n",
       "0103    64.1757       0        0         0              0         0        0   \n",
       "0104          0       0        0         0              0   549.803  149.682   \n",
       "0106          0       0  24.3617         0              0         0  57.2314   \n",
       "...         ...     ...      ...       ...            ...       ...      ...   \n",
       "9540          0       0        0         0              0         0        0   \n",
       "9596          0       0        0         0        33.5449         0        0   \n",
       "9597          0       0        0         0              0         0        0   \n",
       "9598          0       0        0         0              0         0        0   \n",
       "9599          0       0        0         0              0         0        0   \n",
       "\n",
       "           Soja  \n",
       "Canton           \n",
       "0101    7438.21  \n",
       "0102          0  \n",
       "0103          0  \n",
       "0104    6661.47  \n",
       "0106          0  \n",
       "...         ...  \n",
       "9540          0  \n",
       "9596          0  \n",
       "9597          0  \n",
       "9598          0  \n",
       "9599          0  \n",
       "\n",
       "[3689 rows x 14 columns]"
      ]
     },
     "execution_count": 17,
     "metadata": {},
     "output_type": "execute_result"
    }
   ],
   "source": [
    "res2050"
   ]
  },
  {
   "cell_type": "markdown",
   "metadata": {},
   "source": [
    "### Production relative de résidus de culture"
   ]
  },
  {
   "cell_type": "code",
   "execution_count": 18,
   "metadata": {},
   "outputs": [],
   "source": [
    "prodres2010 = res2010.sum(axis = 0)\n",
    "prod2010 = (surf2010 * rend2010).sum(axis = 0) / 10"
   ]
  },
  {
   "cell_type": "code",
   "execution_count": 19,
   "metadata": {},
   "outputs": [
    {
     "data": {
      "text/plain": [
       "Ble_tendre        0.884694\n",
       "Ble_dur           1.081818\n",
       "Triticale         1.081818\n",
       "Mais_grain        0.884694\n",
       "Mais_ensilage     0.111111\n",
       "Orge              0.850000\n",
       "Avoine            1.126744\n",
       "Sorgho            1.173810\n",
       "Seigle            0.850000\n",
       "Betterave         0.100000\n",
       "Pomme_de_terre    0.075000\n",
       "Tournesol         1.725758\n",
       "Colza             2.081034\n",
       "Soja              1.806250\n",
       "dtype: float64"
      ]
     },
     "execution_count": 19,
     "metadata": {},
     "output_type": "execute_result"
    }
   ],
   "source": [
    "prodres2010 / prod2010"
   ]
  },
  {
   "cell_type": "code",
   "execution_count": 20,
   "metadata": {},
   "outputs": [],
   "source": [
    "prodres2050 = res2050.sum(axis = 0)\n",
    "prod2050 = (surf2050 * rend2050).sum(axis = 0) / 10"
   ]
  },
  {
   "cell_type": "code",
   "execution_count": 21,
   "metadata": {},
   "outputs": [
    {
     "data": {
      "text/plain": [
       "Ble_tendre        0.884694\n",
       "Ble_dur           1.081818\n",
       "Triticale         1.081818\n",
       "Mais_grain        0.884694\n",
       "Mais_ensilage     0.111111\n",
       "Orge              0.850000\n",
       "Avoine            1.126744\n",
       "Sorgho            1.173810\n",
       "Seigle            0.850000\n",
       "Betterave         0.100000\n",
       "Pomme_de_terre    0.075000\n",
       "Tournesol         1.725758\n",
       "Colza             2.081034\n",
       "Soja              1.806250\n",
       "dtype: float64"
      ]
     },
     "execution_count": 21,
     "metadata": {},
     "output_type": "execute_result"
    }
   ],
   "source": [
    "prodres2050 / prod2050"
   ]
  },
  {
   "cell_type": "markdown",
   "metadata": {},
   "source": [
    "La projection a conservé les mêmes coefficients en 2050 qu'en 2010."
   ]
  },
  {
   "cell_type": "code",
   "execution_count": null,
   "metadata": {},
   "outputs": [],
   "source": []
  },
  {
   "cell_type": "markdown",
   "metadata": {},
   "source": [
    "### Méthanisation de la paille"
   ]
  },
  {
   "cell_type": "code",
   "execution_count": 22,
   "metadata": {},
   "outputs": [],
   "source": [
    "prodPaille2010 = canton['Production_Paille_2010'] # en tonnes\n",
    "soldePaille2010 = canton['Solde_Paille_2010'] # en tonnes\n",
    "mobilisationPaille2010 = canton['Paille_Methanisee_2010'] # en tonnes\n",
    "methanePaille2010 = canton['CH4_Paille 2010'] # en m3"
   ]
  },
  {
   "cell_type": "code",
   "execution_count": 23,
   "metadata": {},
   "outputs": [],
   "source": [
    "straw = ['Ble_tendre', 'Ble_dur', 'Triticale', 'Mais_grain', 'Orge', 'Avoine',\n",
    "            'Sorgho', 'Seigle', 'Betterave', 'Tournesol', 'Colza', 'Soja']\n",
    "\n",
    "strawProd2010 = res2010.loc[:, straw].sum(axis = 1)"
   ]
  },
  {
   "cell_type": "markdown",
   "metadata": {},
   "source": [
    "On trouve approximativement les mêmes valeurs pour strawProd2010 et prodPaille2010. On se fie donc à la deuxième\n",
    "qui correspond à des relevés directs."
   ]
  },
  {
   "cell_type": "code",
   "execution_count": 24,
   "metadata": {},
   "outputs": [],
   "source": [
    "# Calcul du taux de mobilisation\n",
    "\n",
    "rows_to_remove = [] # on ne va prendre en compte que les cantons producteurs de paille\n",
    "for index in prodPaille2010.index:\n",
    "    if prodPaille2010[index] == 0.0:\n",
    "        rows_to_remove.append(index)\n",
    "        \n",
    "prodPaille2010.drop(labels = rows_to_remove, axis = 0, inplace = True)\n",
    "mobilisationPaille2010.drop(labels = rows_to_remove, axis = 0, inplace = True)"
   ]
  },
  {
   "cell_type": "code",
   "execution_count": 25,
   "metadata": {},
   "outputs": [
    {
     "name": "stdout",
     "output_type": "stream",
     "text": [
      "17.2 +/- 7.8 %\n"
     ]
    }
   ],
   "source": [
    "mob_canton = mobilisationPaille2010 / prodPaille2010\n",
    "mobilisation = mob_canton.mean() * 100 # en pourcents\n",
    "ecart_type = mob_canton.std() * 100\n",
    "print(f'{mobilisation.round(1)} +/- {ecart_type.round(1)} %')"
   ]
  },
  {
   "cell_type": "markdown",
   "metadata": {},
   "source": [
    "L'hypothèse consistant à prendre un taux de mobilisation uniforme de 20% semble donc un peu optimiste mais cohérente."
   ]
  },
  {
   "cell_type": "code",
   "execution_count": null,
   "metadata": {},
   "outputs": [],
   "source": []
  },
  {
   "cell_type": "markdown",
   "metadata": {},
   "source": [
    "## CIMSE"
   ]
  },
  {
   "cell_type": "markdown",
   "metadata": {},
   "source": [
    "Rendements en tonnes de matière sèche par hectare, surfaces en ha et productions en tonnes."
   ]
  },
  {
   "cell_type": "code",
   "execution_count": 26,
   "metadata": {},
   "outputs": [],
   "source": [
    "cisme = canton.iloc[:, 126:140:]"
   ]
  },
  {
   "cell_type": "code",
   "execution_count": 27,
   "metadata": {},
   "outputs": [],
   "source": [
    "def contains(mot, liste):\n",
    "    def aux(chaine):\n",
    "        return mot in chaine\n",
    "    aux = np.vectorize(aux)\n",
    "    return aux(liste)\n",
    "\n",
    "col = np.array(cisme.columns)\n",
    "    \n",
    "cisme_h10 = cisme.loc[:, contains('hiver', col) & contains('2010', col)].copy()\n",
    "cisme_h50 = cisme.loc[:, contains('hiver', col) & contains('2050', col)].copy()\n",
    "cisme_e10 = cisme.loc[:, (contains('ete', col) | contains('été', col)) & contains('2010', col)].copy()\n",
    "cisme_e50 = cisme.loc[:, (contains('ete', col) | contains('été', col)) & contains('2050', col)].copy()"
   ]
  },
  {
   "cell_type": "code",
   "execution_count": 28,
   "metadata": {},
   "outputs": [],
   "source": [
    "cisme_h = ['Rend_production', 'Rend_recolte', 'Surface']\n",
    "\n",
    "for i, col in enumerate(cisme_h10):\n",
    "    cisme_h10.rename(columns = {col : cisme_h[i]}, inplace = True)\n",
    "for i, col in enumerate(cisme_e10):\n",
    "    cisme_e10.rename(columns = {col : cisme_h[i]}, inplace = True)\n",
    "for i, col in enumerate(cisme_h50):\n",
    "    cisme_h50.rename(columns = {col : cisme_h[i]}, inplace = True)\n",
    "for i, col in enumerate(cisme_e50):\n",
    "    cisme_e50.rename(columns = {col : cisme_h[i]}, inplace = True)"
   ]
  },
  {
   "cell_type": "code",
   "execution_count": 29,
   "metadata": {},
   "outputs": [
    {
     "data": {
      "image/png": "[encoded data removed]",
      "text/plain": [
       "<Figure size 432x288 with 1 Axes>"
      ]
     },
     "metadata": {
      "needs_background": "light"
     },
     "output_type": "display_data"
    }
   ],
   "source": [
    "x = np.array(cisme_h10['Rend_production'])\n",
    "y = np.array(cisme_h10['Rend_recolte'])\n",
    "\n",
    "plt.xlabel('Rendement de production (tMS/ha)')\n",
    "plt.ylabel('Rendement de récolte (tMS/ha)')\n",
    "plt.scatter(x, y, label = 'Hiver 2010')\n",
    "plt.legend();"
   ]
  },
  {
   "cell_type": "markdown",
   "metadata": {},
   "source": [
    "On va essayer un autre modèle."
   ]
  },
  {
   "cell_type": "code",
   "execution_count": null,
   "metadata": {},
   "outputs": [],
   "source": []
  },
  {
   "cell_type": "markdown",
   "metadata": {},
   "source": [
    "### Calcul du gisement à la main pour 2050"
   ]
  },
  {
   "cell_type": "code",
   "execution_count": 30,
   "metadata": {},
   "outputs": [],
   "source": [
    "# Données départementales\n",
    "\n",
    "dpt = pd.read_excel('Potentiels.xlsx', sheet_name = 'DPT', header = 13, index_col = 2)"
   ]
  },
  {
   "cell_type": "code",
   "execution_count": 31,
   "metadata": {},
   "outputs": [],
   "source": [
    "# Cultures intermédiaires à prendre en compte pour 2050\n",
    "\n",
    "liste_ete = [\"Colza\",\"Ble_dur\", \"Ble_tendre\", \"Triticale\", \"Avoine\", \"Seigle\"]\n",
    "# et orge et escourgeon\n",
    "liste_hiver = [\"Tournesol\", \"Mais_ensilage\", \"Mais_grain\", \"Betterave\", \"Pomme_de_terre\", \"Sorgho\",\"Soja\"]\n",
    "# et pois et orge de printemps\n",
    "\n",
    "# Conditions climatiques par saison (voir carte p.207 du rapport de l'ADEME)\n",
    "\n",
    "bon_ete = ['29', '22', '56', '35', '50', '14', '27', '76', '62', '59', '80', '60', '02',\n",
    "           '28', '45','78', '91', '77', '95', '92', '93', '94', '75']\n",
    "\n",
    "mediocre_ete = ['33', '24', '40', '47', '64', '12', '46', '81', '82',\n",
    "                '31', '32', '09', '65', '66', '11', '34', '30', '48', '07', '26', '13',\n",
    "                '83', '84', '04', '05', '06', '2A', '2B']\n",
    "\n",
    "bon_hiver = ['29', '22', '56', '35', '50', '14', '27', '76', '62', '80', '60',\n",
    "             '28', '45', '78', '91', '77', '95', '92', '93', '94', '61', '53', '72',\n",
    "             '44', '49', '85', '18', '36', '37', '41', '79', '86', '16', '17', '75']\n",
    "\n",
    "mediocre_hiver = ['12', '46', '09', '66', '11', '34', '30', '48', '07', '26', '13', '83',\n",
    "                  '84', '04', '05', '06', '2A', '2B', '15', '42', '43', '73', '74', '39', '25', '90']"
   ]
  },
  {
   "cell_type": "code",
   "execution_count": 32,
   "metadata": {},
   "outputs": [],
   "source": [
    "dpt = dpt.iloc[0:96:, :]"
   ]
  },
  {
   "cell_type": "code",
   "execution_count": 33,
   "metadata": {},
   "outputs": [],
   "source": [
    "# Rendements DE RÉCOLTE par département et saison en t/ha/an\n",
    "\n",
    "dpt['Rend_MS_ete'] = .4 # été moyen\n",
    "dpt['Rend_MS_hiver'] = 3. # hiver moyen\n",
    "\n",
    "dpt.loc[bon_ete, 'Rend_MS_ete'] = 2.7\n",
    "dpt.loc[mediocre_ete, 'Rend_MS_ete'] = .0\n",
    "\n",
    "dpt.loc[bon_hiver, 'Rend_MS_hiver'] = 4.9\n",
    "dpt.loc[mediocre_hiver, 'Rend_MS_hiver'] = 1.3"
   ]
  },
  {
   "cell_type": "code",
   "execution_count": 34,
   "metadata": {},
   "outputs": [],
   "source": [
    "sdpt2050 = dpt.iloc[:, 66:80:].copy() # surfaces à l'échelle départementale\n",
    "rdpt2050 = dpt.iloc[:, 94:108:].copy() # rendements à l'échelle départementale"
   ]
  },
  {
   "cell_type": "code",
   "execution_count": 35,
   "metadata": {},
   "outputs": [],
   "source": [
    "for i, col in enumerate(rdpt2050):\n",
    "    rdpt2050.rename(columns = {col : head_list[i]}, inplace = True)\n",
    "for i, col in enumerate(sdpt2050):\n",
    "    sdpt2050.rename(columns = {col : head_list[i]}, inplace = True)"
   ]
  },
  {
   "cell_type": "code",
   "execution_count": 36,
   "metadata": {},
   "outputs": [],
   "source": [
    "s2050_ete = sdpt2050[liste_ete].sum(axis = 1) # surfaces totales de CISME d'été\n",
    "s2050_hiver = sdpt2050[liste_hiver].sum(axis = 1) # surfaces totales de CISME d'hiver"
   ]
  },
  {
   "cell_type": "code",
   "execution_count": 37,
   "metadata": {},
   "outputs": [
    {
     "name": "stdout",
     "output_type": "stream",
     "text": [
      "13005594.0\n",
      "7973691.0\n"
     ]
    }
   ],
   "source": [
    "prod2050_hiver = s2050_hiver * dpt['Rend_MS_hiver']\n",
    "prod2050_ete = s2050_ete * dpt['Rend_MS_ete']\n",
    "\n",
    "# Il y a des CIMSES d'été (resp. d'hiver) toute l'année !\n",
    "\n",
    "print(prod2050_hiver.sum().round(0))\n",
    "print(prod2050_ete.sum().round(0))"
   ]
  },
  {
   "cell_type": "markdown",
   "metadata": {},
   "source": [
    "On obtient $13$ Mt de récolte totale de CISME d'hiver en France métropolitaine en 2050 et $8$ Mt en été pour un seuil de rentabilité uniforme à $4$ tMS/ha au-delà duquel on prend 100% de la production.\n",
    "\n",
    "On obtient donc un total très proche des prévisions."
   ]
  },
  {
   "cell_type": "code",
   "execution_count": 38,
   "metadata": {},
   "outputs": [],
   "source": [
    "# Si on veut faire les mêmes calculs pour 2010...\n",
    "# Mais il ne faudrait pas prendre en compte les mêmes CISME\n",
    "\n",
    "sdpt2010 = dpt.iloc[:, 10:24:].copy() \n",
    "rdpt2010 = dpt.iloc[:, 24:38:].copy()\n",
    "\n",
    "for i, col in enumerate(rdpt2010):\n",
    "    rdpt2010.rename(columns = {col : head_list[i]}, inplace = True)\n",
    "for i, col in enumerate(sdpt2010):\n",
    "    sdpt2010.rename(columns = {col : head_list[i]}, inplace = True)\n",
    "    \n",
    "s2010_ete = sdpt2010[liste_ete].sum(axis = 1)\n",
    "s2010_hiver = sdpt2010[liste_hiver].sum(axis = 1)"
   ]
  },
  {
   "cell_type": "code",
   "execution_count": null,
   "metadata": {},
   "outputs": [],
   "source": []
  },
  {
   "cell_type": "markdown",
   "metadata": {},
   "source": [
    "### Analyse de sensibilité : seuil de rentabilité"
   ]
  },
  {
   "cell_type": "markdown",
   "metadata": {},
   "source": [
    "Voir p.207 et 208 du rapport de l'ADEME. Le seuil de rentabilité est estimé à un rendement de récolte de 4 tMS/ha."
   ]
  },
  {
   "cell_type": "code",
   "execution_count": 39,
   "metadata": {},
   "outputs": [],
   "source": [
    "surface_cimse_bon_ete50 = sdpt2050.loc[bon_ete, liste_ete].sum(axis = 1).sum()\n",
    "surface_cimse_mediocre_ete50 = sdpt2050.loc[mediocre_ete, liste_ete].sum(axis = 1).sum()\n",
    "surface_cisme_moyen_ete50 = s2050_ete.sum() - surface_cimse_mediocre_ete50 - surface_cimse_bon_ete50\n",
    "\n",
    "surface_cimse_bon_hiver50 = sdpt2050.loc[bon_hiver, liste_hiver].sum(axis = 1).sum()\n",
    "surface_cimse_mediocre_hiver50 = sdpt2050.loc[mediocre_hiver, liste_hiver].sum(axis = 1).sum()\n",
    "surface_cisme_moyen_hiver50 = s2050_hiver.sum() - surface_cimse_mediocre_hiver50 - surface_cimse_bon_hiver50"
   ]
  },
  {
   "cell_type": "code",
   "execution_count": 40,
   "metadata": {},
   "outputs": [],
   "source": [
    "rend_moyen_hiver = [6,5.4,5,4.7,4.4,4.1,3.8,3.4,3.1,2.8]\n",
    "rend_moyen_ete = [4,3.7,3.5,3.4,3.2,3,2.9,2.7,2.6,2.4]"
   ]
  },
  {
   "cell_type": "code",
   "execution_count": 41,
   "metadata": {},
   "outputs": [],
   "source": [
    "yields = {}\n",
    "\n",
    "for y in rend_moyen_hiver:\n",
    "    try:\n",
    "        yields[y] += surface_cisme_moyen_hiver50/10 # on divise par 10 car cela concerne un décile (tableau p.207)\n",
    "    except:\n",
    "        yields[y] = surface_cisme_moyen_hiver50/10\n",
    "    try:\n",
    "        yields[y + 1] += surface_cimse_bon_hiver50/10\n",
    "    except:\n",
    "        yields[y + 1] = surface_cimse_bon_hiver50/10\n",
    "    try:\n",
    "        yields[y - 1] += surface_cimse_mediocre_hiver50/10\n",
    "    except:\n",
    "        yields[y - 1] = surface_cimse_mediocre_hiver50/10\n",
    "        \n",
    "for y in rend_moyen_ete:\n",
    "    try:\n",
    "        yields[y] += surface_cisme_moyen_ete50/10\n",
    "    except:\n",
    "        yields[y] = surface_cisme_moyen_ete50/10\n",
    "    try:\n",
    "        yields[y + 1] += surface_cimse_bon_ete50/10\n",
    "    except:\n",
    "        yields[y + 1] = surface_cimse_bon_ete50/10\n",
    "    try:\n",
    "        yields[y - 1] += surface_cimse_mediocre_ete50/10\n",
    "    except:\n",
    "        yields[y - 1] = surface_cimse_mediocre_ete50/10"
   ]
  },
  {
   "cell_type": "code",
   "execution_count": 42,
   "metadata": {},
   "outputs": [
    {
     "data": {
      "image/png": "[encoded data removed]",
      "text/plain": [
       "<Figure size 432x288 with 1 Axes>"
      ]
     },
     "metadata": {
      "needs_background": "light"
     },
     "output_type": "display_data"
    }
   ],
   "source": [
    "r = np.array(list(yields.keys()))\n",
    "s = np.array(list(yields.values()))\n",
    "\n",
    "plt.plot([4., 4.], [0., 2.3], 'r--', label = 'Seuil')\n",
    "\n",
    "plt.hist(r, weights = s / 10**6)\n",
    "plt.xlabel('Rendements (tMS/ha)')\n",
    "plt.ylabel('Surfaces (Mha)')\n",
    "plt.title('Répartition des surfaces en fonction du rendement')\n",
    "plt.legend();"
   ]
  },
  {
   "cell_type": "code",
   "execution_count": 103,
   "metadata": {},
   "outputs": [
    {
     "data": {
      "image/png": "[encoded data removed]",
      "text/plain": [
       "<Figure size 432x288 with 1 Axes>"
      ]
     },
     "metadata": {
      "needs_background": "light"
     },
     "output_type": "display_data"
    }
   ],
   "source": [
    "plt.plot([4., 4.], [0., 8.9], 'r--', label = 'Seuil')\n",
    "\n",
    "plt.hist(r, weights = r*s / 10**6)\n",
    "plt.xlabel('Rendements (tMS/ha)')\n",
    "plt.ylabel('Production (MtMS)')\n",
    "plt.title('Répartition de la production en fonction du rendement')\n",
    "plt.legend();\n",
    "#plt.savefig('seuil.png', dpi = 1200)"
   ]
  },
  {
   "cell_type": "code",
   "execution_count": 44,
   "metadata": {},
   "outputs": [
    {
     "data": {
      "image/png": "[encoded data removed]",
      "text/plain": [
       "<Figure size 432x288 with 1 Axes>"
      ]
     },
     "metadata": {
      "needs_background": "light"
     },
     "output_type": "display_data"
    }
   ],
   "source": [
    "def threshold(seuil):\n",
    "    res = 0\n",
    "    for key in yields:\n",
    "        if key >= seuil:\n",
    "            res += key*yields[key]\n",
    "    return res\n",
    "\n",
    "threshold = np.vectorize(threshold)\n",
    "t = np.linspace(0., 7., 200)\n",
    "plt.plot(t, threshold(t) / 10**6)\n",
    "plt.xlabel('Seuil (tMS/ha)')\n",
    "plt.title('Evolution de la production de CIMSE avec le seuil')\n",
    "plt.ylabel('Production (MtMS)');"
   ]
  },
  {
   "cell_type": "code",
   "execution_count": null,
   "metadata": {},
   "outputs": [],
   "source": []
  },
  {
   "cell_type": "markdown",
   "metadata": {},
   "source": [
    "## Gisement résidus et CISME"
   ]
  },
  {
   "cell_type": "code",
   "execution_count": 45,
   "metadata": {},
   "outputs": [],
   "source": [
    "# p.212\n",
    "\n",
    "# Convertir les données résidus et CIMSES en méthane"
   ]
  },
  {
   "cell_type": "code",
   "execution_count": null,
   "metadata": {},
   "outputs": [],
   "source": []
  },
  {
   "cell_type": "markdown",
   "metadata": {},
   "source": [
    "## Elevage"
   ]
  },
  {
   "cell_type": "markdown",
   "metadata": {},
   "source": [
    "Masses de déjections en $t_{MS}$ et potentiel et volume de CH$_4$ en m$^3$."
   ]
  },
  {
   "cell_type": "code",
   "execution_count": 46,
   "metadata": {},
   "outputs": [],
   "source": [
    "cheptel10 = canton.loc[:, 'Vaches_laitieres_2010':'Poules_pondeuses_2010'].copy()\n",
    "cheptel50 = canton.loc[:, 'Vaches_laitieres_2050':'Poules_pondeuses_2050'].copy()"
   ]
  },
  {
   "cell_type": "code",
   "execution_count": 47,
   "metadata": {},
   "outputs": [],
   "source": [
    "cheptel_header = ['Vaches_laitieres', 'Vaches_allaitantes', 'Brebis', 'Porcs', 'Poulets', 'Poules']\n",
    "\n",
    "for i, col in enumerate(cheptel10):\n",
    "    cheptel10.rename(columns = {col : cheptel_header[i]}, inplace = True)\n",
    "for i, col in enumerate(cheptel50):\n",
    "    cheptel50.rename(columns = {col : cheptel_header[i]}, inplace = True)"
   ]
  },
  {
   "cell_type": "code",
   "execution_count": 48,
   "metadata": {},
   "outputs": [],
   "source": [
    "# Fumier et déjections\n",
    "\n",
    "liste_dej2010 = ['Fumier_2010', 'Lisier_2010', 'Fientes_2010',\n",
    "                       'Dejections_Potentiel_Total_2010', 'CH4_Dej']\n",
    "liste_dej2050 = ['Fumier_2050', 'Lisier_2050', 'Fientes_2050',\n",
    "                       'Dejections_Potentiel_Total_2050', 'CH4_Dej 2050']\n",
    "\n",
    "dej2010 = canton[liste_dej2010].copy()\n",
    "dej2050 = canton[liste_dej2050].copy()\n",
    "\n",
    "dej_header = ['Fumier', 'Lisier', 'Fientes', 'Total_dejections', 'CH4']\n",
    "\n",
    "for i, col in enumerate(dej2010):\n",
    "    dej2010.rename(columns = {col : dej_header[i]}, inplace = True)\n",
    "for i, col in enumerate(dej2050):\n",
    "    dej2050.rename(columns = {col : dej_header[i]}, inplace = True)"
   ]
  },
  {
   "cell_type": "markdown",
   "metadata": {},
   "source": [
    "### Conversion des déjections en méthane"
   ]
  },
  {
   "cell_type": "code",
   "execution_count": 49,
   "metadata": {},
   "outputs": [
    {
     "data": {
      "text/plain": [
       "0.5"
      ]
     },
     "execution_count": 49,
     "metadata": {},
     "output_type": "execute_result"
    }
   ],
   "source": [
    "rows_dej10 = []\n",
    "for i in dej2010.index:\n",
    "    cat = [int, float]\n",
    "    v = dej2010.loc[i, 'Total_dejections']\n",
    "    if type(v) in cat and v > 0:\n",
    "        rows_dej10.append(i)\n",
    "\n",
    "conversion2010 = dej2010.loc[rows_dej10, 'CH4'] / dej2010.loc[rows_dej10, 'Total_dejections']\n",
    "conversion2010.mean()"
   ]
  },
  {
   "cell_type": "code",
   "execution_count": 50,
   "metadata": {},
   "outputs": [
    {
     "data": {
      "text/plain": [
       "0.9"
      ]
     },
     "execution_count": 50,
     "metadata": {},
     "output_type": "execute_result"
    }
   ],
   "source": [
    "rows_dej50 = []\n",
    "for i in dej2050.index:\n",
    "    cat = [int, float]\n",
    "    v = dej2050.loc[i, 'Total_dejections']\n",
    "    if type(v) in cat and v > 0:\n",
    "        rows_dej50.append(i)\n",
    "\n",
    "conversion2050 = dej2050.loc[rows_dej50, 'CH4'] / dej2050.loc[rows_dej50, 'Total_dejections']\n",
    "conversion2050.mean().round(1)"
   ]
  },
  {
   "cell_type": "markdown",
   "metadata": {},
   "source": [
    "Les projections supposent une mobilisation beaucoup plus forte (et uniforme sur le territoire) des déjections pour la production de biométhane. En 2010, on a que 1 m$^3$ donne 0,5 m$^3$ de méthane et 0,9 en 2050."
   ]
  },
  {
   "cell_type": "markdown",
   "metadata": {},
   "source": [
    "### Impact de la réduction des cheptels"
   ]
  },
  {
   "cell_type": "code",
   "execution_count": 51,
   "metadata": {},
   "outputs": [],
   "source": [
    "cheptels_nat10 = cheptel10.sum(axis = 0)\n",
    "cheptels_nat50 = cheptel50.sum(axis = 0)\n",
    "evolution_cheptels = 100 * (cheptels_nat50 - cheptels_nat10) / cheptels_nat10 # en pourcents"
   ]
  },
  {
   "cell_type": "code",
   "execution_count": 52,
   "metadata": {},
   "outputs": [
    {
     "data": {
      "text/plain": [
       "Vaches_laitieres     -28.9\n",
       "Vaches_allaitantes   -61.5\n",
       "Brebis                16.6\n",
       "Porcs                -39.0\n",
       "Poulets              -36.3\n",
       "Poules               -21.7\n",
       "dtype: float64"
      ]
     },
     "execution_count": 52,
     "metadata": {},
     "output_type": "execute_result"
    }
   ],
   "source": [
    "evolution_cheptels.round(1)"
   ]
  },
  {
   "cell_type": "code",
   "execution_count": 53,
   "metadata": {},
   "outputs": [
    {
     "data": {
      "text/plain": [
       "0.10560013839767383"
      ]
     },
     "execution_count": 53,
     "metadata": {},
     "output_type": "execute_result"
    }
   ],
   "source": [
    "# Evolution du méthane issu des déjections\n",
    "\n",
    "CH4_dej10 = dej2010.loc[rows_dej10, 'CH4'].sum()\n",
    "CH4_dej50 = dej2050.loc[rows_dej50, 'CH4'].sum()\n",
    "\n",
    "rapport_prod = 100 * (CH4_dej50 - CH4_dej10) / CH4_dej10 # en pourcents\n",
    "rapport_prod"
   ]
  },
  {
   "cell_type": "markdown",
   "metadata": {},
   "source": [
    "Malgré la réduction des cheptels, la production de biométhane par méthanisation des déjections d'élevage reste très similaire grâce notamment à un taux de mobilisation plus fort."
   ]
  },
  {
   "cell_type": "code",
   "execution_count": null,
   "metadata": {},
   "outputs": [],
   "source": []
  },
  {
   "cell_type": "markdown",
   "metadata": {},
   "source": [
    "### Compétition méthanisation fourrage et déjection"
   ]
  },
  {
   "cell_type": "markdown",
   "metadata": {},
   "source": [
    "Quel serait l'effet d'une réduction  plus importante des cheptels si on valorisait la paille qu'ils nécessitent par méthanisation ? Indépendemment des besoins en élevage, vaut-il mieux méthaniser la paille directement ou les déjections induites par les élevages qui l'utilisent ?\n",
    "\n",
    "Voir équations 1 et 2 du rapport de l'ADEME p.215 et 217."
   ]
  },
  {
   "cell_type": "code",
   "execution_count": 54,
   "metadata": {},
   "outputs": [
    {
     "data": {
      "text/html": [
       "<div>\n",
       "<style scoped>\n",
       "    .dataframe tbody tr th:only-of-type {\n",
       "        vertical-align: middle;\n",
       "    }\n",
       "\n",
       "    .dataframe tbody tr th {\n",
       "        vertical-align: top;\n",
       "    }\n",
       "\n",
       "    .dataframe thead th {\n",
       "        text-align: right;\n",
       "    }\n",
       "</style>\n",
       "<table border=\"1\" class=\"dataframe\">\n",
       "  <thead>\n",
       "    <tr style=\"text-align: right;\">\n",
       "      <th></th>\n",
       "      <th>excretion</th>\n",
       "      <th>paille_dans_fumier</th>\n",
       "      <th>nombre_2010</th>\n",
       "      <th>besoin_paille</th>\n",
       "      <th>part_fumier</th>\n",
       "      <th>paturage_2010</th>\n",
       "      <th>rotation_2010</th>\n",
       "      <th>fumier_2010</th>\n",
       "      <th>lisier_2010</th>\n",
       "      <th>paille_2010</th>\n",
       "      <th>pouvoir_meth_fumier</th>\n",
       "      <th>pouvoir_meth_lisier</th>\n",
       "      <th>energie</th>\n",
       "      <th>energie_perdue</th>\n",
       "    </tr>\n",
       "  </thead>\n",
       "  <tbody>\n",
       "    <tr>\n",
       "      <th>Vaches_laitieres</th>\n",
       "      <td>1.950</td>\n",
       "      <td>0.6</td>\n",
       "      <td>3698632.0</td>\n",
       "      <td>1.5</td>\n",
       "      <td>0.9</td>\n",
       "      <td>0.4</td>\n",
       "      <td>1.0</td>\n",
       "      <td>6.231455e+06</td>\n",
       "      <td>4.327399e+06</td>\n",
       "      <td>4993153.20</td>\n",
       "      <td>168</td>\n",
       "      <td>160</td>\n",
       "      <td>19.201523</td>\n",
       "      <td>12.182495</td>\n",
       "    </tr>\n",
       "    <tr>\n",
       "      <th>Vaches_allaitantes</th>\n",
       "      <td>1.610</td>\n",
       "      <td>1.1</td>\n",
       "      <td>4089332.0</td>\n",
       "      <td>1.5</td>\n",
       "      <td>0.9</td>\n",
       "      <td>0.6</td>\n",
       "      <td>1.0</td>\n",
       "      <td>4.977371e+06</td>\n",
       "      <td>2.633530e+06</td>\n",
       "      <td>5520598.20</td>\n",
       "      <td>168</td>\n",
       "      <td>160</td>\n",
       "      <td>13.883497</td>\n",
       "      <td>13.469376</td>\n",
       "    </tr>\n",
       "    <tr>\n",
       "      <th>Brebis</th>\n",
       "      <td>0.150</td>\n",
       "      <td>1.1</td>\n",
       "      <td>5381142.0</td>\n",
       "      <td>1.0</td>\n",
       "      <td>0.1</td>\n",
       "      <td>0.0</td>\n",
       "      <td>1.0</td>\n",
       "      <td>1.695060e+05</td>\n",
       "      <td>8.071713e+05</td>\n",
       "      <td>538114.20</td>\n",
       "      <td>192</td>\n",
       "      <td>160</td>\n",
       "      <td>1.785086</td>\n",
       "      <td>1.312913</td>\n",
       "    </tr>\n",
       "    <tr>\n",
       "      <th>Porcs</th>\n",
       "      <td>0.076</td>\n",
       "      <td>1.1</td>\n",
       "      <td>8502746.0</td>\n",
       "      <td>1.0</td>\n",
       "      <td>0.9</td>\n",
       "      <td>0.0</td>\n",
       "      <td>2.5</td>\n",
       "      <td>4.885338e+05</td>\n",
       "      <td>2.584835e+05</td>\n",
       "      <td>3060988.56</td>\n",
       "      <td>192</td>\n",
       "      <td>232</td>\n",
       "      <td>1.697584</td>\n",
       "      <td>7.468322</td>\n",
       "    </tr>\n",
       "    <tr>\n",
       "      <th>Poulets</th>\n",
       "      <td>0.012</td>\n",
       "      <td>1.1</td>\n",
       "      <td>130916950.0</td>\n",
       "      <td>0.0</td>\n",
       "      <td>0.0</td>\n",
       "      <td>0.0</td>\n",
       "      <td>1.0</td>\n",
       "      <td>0.000000e+00</td>\n",
       "      <td>1.571003e+06</td>\n",
       "      <td>0.00</td>\n",
       "      <td>240</td>\n",
       "      <td>240</td>\n",
       "      <td>4.162531</td>\n",
       "      <td>0.000000</td>\n",
       "    </tr>\n",
       "    <tr>\n",
       "      <th>Poules</th>\n",
       "      <td>0.012</td>\n",
       "      <td>1.1</td>\n",
       "      <td>39233851.0</td>\n",
       "      <td>0.0</td>\n",
       "      <td>0.0</td>\n",
       "      <td>0.0</td>\n",
       "      <td>6.0</td>\n",
       "      <td>0.000000e+00</td>\n",
       "      <td>7.846770e+04</td>\n",
       "      <td>0.00</td>\n",
       "      <td>240</td>\n",
       "      <td>240</td>\n",
       "      <td>0.207908</td>\n",
       "      <td>0.000000</td>\n",
       "    </tr>\n",
       "  </tbody>\n",
       "</table>\n",
       "</div>"
      ],
      "text/plain": [
       "                    excretion  paille_dans_fumier  nombre_2010  besoin_paille  \\\n",
       "Vaches_laitieres        1.950                 0.6    3698632.0            1.5   \n",
       "Vaches_allaitantes      1.610                 1.1    4089332.0            1.5   \n",
       "Brebis                  0.150                 1.1    5381142.0            1.0   \n",
       "Porcs                   0.076                 1.1    8502746.0            1.0   \n",
       "Poulets                 0.012                 1.1  130916950.0            0.0   \n",
       "Poules                  0.012                 1.1   39233851.0            0.0   \n",
       "\n",
       "                    part_fumier  paturage_2010  rotation_2010   fumier_2010  \\\n",
       "Vaches_laitieres            0.9            0.4            1.0  6.231455e+06   \n",
       "Vaches_allaitantes          0.9            0.6            1.0  4.977371e+06   \n",
       "Brebis                      0.1            0.0            1.0  1.695060e+05   \n",
       "Porcs                       0.9            0.0            2.5  4.885338e+05   \n",
       "Poulets                     0.0            0.0            1.0  0.000000e+00   \n",
       "Poules                      0.0            0.0            6.0  0.000000e+00   \n",
       "\n",
       "                     lisier_2010  paille_2010  pouvoir_meth_fumier  \\\n",
       "Vaches_laitieres    4.327399e+06   4993153.20                  168   \n",
       "Vaches_allaitantes  2.633530e+06   5520598.20                  168   \n",
       "Brebis              8.071713e+05    538114.20                  192   \n",
       "Porcs               2.584835e+05   3060988.56                  192   \n",
       "Poulets             1.571003e+06         0.00                  240   \n",
       "Poules              7.846770e+04         0.00                  240   \n",
       "\n",
       "                    pouvoir_meth_lisier    energie  energie_perdue  \n",
       "Vaches_laitieres                    160  19.201523       12.182495  \n",
       "Vaches_allaitantes                  160  13.883497       13.469376  \n",
       "Brebis                              160   1.785086        1.312913  \n",
       "Porcs                               232   1.697584        7.468322  \n",
       "Poulets                             240   4.162531        0.000000  \n",
       "Poules                              240   0.207908        0.000000  "
      ]
     },
     "execution_count": 54,
     "metadata": {},
     "output_type": "execute_result"
    }
   ],
   "source": [
    "# Données issues du tableau p.216, en % de la MS\n",
    "# Incertitude sur le paturage, sur la part fumier, sur les besoins en paille\n",
    "\n",
    "df = pd.DataFrame(data = np.array([[1.95, 1.61, 0.15, 0.076, 0.012, 0.012], [0.6, 1.1, 1.1, 1.1, 1.1, 1.1]]).T, \n",
    "                  columns = ['excretion', 'paille_dans_fumier'], \n",
    "                  index = ['Vaches_laitieres', 'Vaches_allaitantes', 'Brebis', 'Porcs', 'Poulets', 'Poules'])\n",
    "\n",
    "df['nombre_2010'] = cheptel10.sum(axis = 0)\n",
    "#df['nombre_2050'] = cheptel50.sum(axis = 0)\n",
    "df['besoin_paille'] = [1.5, 1.5, 1., 1., 0., 0.] # voir p.217\n",
    "\n",
    "df[\"part_fumier\"] = [0.9, 0.9, 0.1, 0.9, 0, 0] # source ?\n",
    "\n",
    "# Source Afterre 2050 : p.32 à 34\n",
    "\n",
    "df['paturage_2010'] = [0.4, 0.6, 0, 0, 0, 0]\n",
    "df['rotation_2010'] = [1, 1, 1, 2.5, 1, 6] # nombre d'animaux par place et par an\n",
    "\n",
    "# Exploitation\n",
    "\n",
    "df['fumier_2010'] = (df['nombre_2010']/df['rotation_2010'])*df['excretion']*(1 + df['paille_dans_fumier'])*(1 - df['paturage_2010'])*df['part_fumier']\n",
    "# nombre de places = (nombre d'animaux)/(nombres d'animaux par place)\n",
    "\n",
    "df['lisier_2010'] = (df['nombre_2010']/df['rotation_2010'])*df['excretion']*(1 - df['paturage_2010'])\n",
    "\n",
    "df['paille_2010'] = (df['nombre_2010']/df['rotation_2010'])*df['besoin_paille']*df['part_fumier']\n",
    "# (nombre de places)*(part fumier) = nombre de places fumier\n",
    "\n",
    "# Energie\n",
    "\n",
    "df[\"pouvoir_meth_fumier\"] = [168, 168, 192, 192, 240, 240] #tableau 62 (inventé pour ovin), en m3/tMS\n",
    "df[\"pouvoir_meth_lisier\"] = [160, 160, 160, 232, 240, 240]\n",
    "pouvoir_meth_paille = 221\n",
    "PCS_CH4 = 11.04*10**(-9) # en TWh / m3\n",
    "\n",
    "df['energie'] = (df['fumier_2010']*df['pouvoir_meth_fumier'] + df['lisier_2010']*df['pouvoir_meth_lisier'])*PCS_CH4\n",
    "df['energie_perdue'] = pouvoir_meth_paille*df['paille_2010']*PCS_CH4\n",
    "\n",
    "df"
   ]
  },
  {
   "cell_type": "markdown",
   "metadata": {},
   "source": [
    "La plus grande partie du potentiel concerne les élevages bovins !"
   ]
  },
  {
   "cell_type": "code",
   "execution_count": null,
   "metadata": {},
   "outputs": [],
   "source": []
  },
  {
   "cell_type": "markdown",
   "metadata": {},
   "source": [
    "## Déchets : IAA, CSR"
   ]
  },
  {
   "cell_type": "code",
   "execution_count": null,
   "metadata": {},
   "outputs": [],
   "source": []
  },
  {
   "cell_type": "markdown",
   "metadata": {},
   "source": [
    "## Visualisation"
   ]
  },
  {
   "cell_type": "markdown",
   "metadata": {},
   "source": [
    "Source départements : https://www.data.gouv.fr/fr/datasets/carte-des-departements-2-1/#_\n",
    "\n",
    "La Corse (départements 20A et 20B) prend les lignes 6 et 7 et il n'y a donc pas de département 20.\n",
    "\n",
    "Source région : https://public.opendatasoft.com/explore/dataset/contours-geographiques-des-nouvelles-regions-metropole/export/"
   ]
  },
  {
   "cell_type": "code",
   "execution_count": 55,
   "metadata": {},
   "outputs": [],
   "source": [
    "france = gpd.read_file('departements.geojson')"
   ]
  },
  {
   "cell_type": "code",
   "execution_count": 56,
   "metadata": {},
   "outputs": [],
   "source": [
    "regfr = gpd.read_file('regions.geojson')"
   ]
  },
  {
   "cell_type": "code",
   "execution_count": 85,
   "metadata": {},
   "outputs": [],
   "source": [
    "def viz(col, background = france, color = None, frame = True, title = None, title_saved = None):\n",
    "    fig, ax = plt.subplots(1, 1)\n",
    "    if color:\n",
    "        background.plot(column = col, ax = ax, legend = True, cmap = color)\n",
    "    else:\n",
    "        background.plot(column = col, ax = ax, legend = True)\n",
    "    if not frame: # si on veut enlever le cadre\n",
    "        ax.set_axis_off()\n",
    "    if title:\n",
    "        ax.set_title(title)\n",
    "    ax.get_xaxis().set_visible(False)\n",
    "    ax.get_yaxis().set_visible(False);\n",
    "    if title_saved:\n",
    "        fig.savefig(title_saved + '.png', dpi = 1200)"
   ]
  },
  {
   "cell_type": "markdown",
   "metadata": {},
   "source": [
    "### Consommation de gaz"
   ]
  },
  {
   "cell_type": "markdown",
   "metadata": {},
   "source": [
    "Source : https://ourworldindata.org/grapher/global-primary-energy?time=earliest..latest\n",
    "\n",
    "Projections : https://www.bp.com/en/global/corporate/energy-economics/energy-outlook/demand-by-fuel/natural-gas.html"
   ]
  },
  {
   "cell_type": "code",
   "execution_count": 58,
   "metadata": {},
   "outputs": [
    {
     "data": {
      "image/png": "[encoded data removed]",
      "text/plain": [
       "<Figure size 432x288 with 1 Axes>"
      ]
     },
     "metadata": {
      "needs_background": "light"
     },
     "output_type": "display_data"
    }
   ],
   "source": [
    "time = np.array([1850 + n*10 for n in range(12)] + [x for x in range(1965, 2020, 5)] + [2019])\n",
    "consumption = np.array([0, 0, 0, 0, 33, 64, 142, 233, 603, 875, 2092, 4472, 6303,\n",
    "                       9614, 11661, 14239, 16261, 19483, 21108, 24000, 27464, 31606, 34781, 39292])\n",
    "\n",
    "future = np.array([x for x in range(2019, 2040, 5)])\n",
    "projection_peak = np.array([39292, 40280, 39273, 34240, 30200])\n",
    "projection_rise = np.array([39292, 42294, 47330, 49340, 51360])\n",
    "\n",
    "plt.fill_between(time, consumption)\n",
    "plt.fill_between(future, projection_peak, color = 'red')\n",
    "plt.fill_between(future, projection_peak, projection_rise, color = 'gold')\n",
    "plt.plot(time, consumption, label = 'Données historiques')\n",
    "plt.plot(future, projection_rise, color = 'gold', label = 'Projections croissantes')\n",
    "plt.plot(future, projection_peak, color = 'red', label = 'Projections avec un pic')\n",
    "plt.xlim(1850, 2039)\n",
    "plt.ylim(0, 60000)\n",
    "plt.yticks(np.arange(10000, 50001, 20000))\n",
    "plt.legend()\n",
    "plt.title('Consommation mondiale de gaz naturel depuis 1850, en TWh');\n",
    "#plt.savefig('consommation_gaz.png', dpi = 1200);"
   ]
  },
  {
   "cell_type": "code",
   "execution_count": null,
   "metadata": {},
   "outputs": [],
   "source": []
  },
  {
   "cell_type": "markdown",
   "metadata": {},
   "source": [
    "### Tension sur la ressource"
   ]
  },
  {
   "cell_type": "markdown",
   "metadata": {},
   "source": [
    "#### Baisse des rendements"
   ]
  },
  {
   "cell_type": "code",
   "execution_count": 86,
   "metadata": {},
   "outputs": [],
   "source": [
    "rd2010 = dpt.loc[:, 'Prod.2010.Ble.tendre':'Prod.2010.Soja'].sum(axis = 1)/dpt.loc[:, 'Surf.2010.Ble.tendre':'Surf.2010.Soja'].sum(axis = 1)\n",
    "rd2050 = dpt.loc[:, 'Prod.2050.Ble.tendre':'Prod.2050.Soja'].sum(axis = 1)/dpt.loc[:, 'Surf.2050.Ble.tendre':'Surf.2050.Soja'].sum(axis = 1)\n",
    "\n",
    "\n",
    "france['Evolution_rendements'] = 0\n",
    "\n",
    "for k in range(96):\n",
    "    ind = france.loc[k, 'code']\n",
    "    france.loc[k, 'Evolution_rendements'] = 100*(rd2050/rd2010 - 1).loc[ind]"
   ]
  },
  {
   "cell_type": "code",
   "execution_count": 92,
   "metadata": {},
   "outputs": [
    {
     "data": {
      "image/png": "[encoded data removed]",
      "text/plain": [
       "<Figure size 432x288 with 2 Axes>"
      ]
     },
     "metadata": {
      "needs_background": "light"
     },
     "output_type": "display_data"
    }
   ],
   "source": [
    "viz('Evolution_rendements', color = 'seismic', title = 'Évolution des rendements entre 2010 et 2050, en %')"
   ]
  },
  {
   "cell_type": "markdown",
   "metadata": {},
   "source": [
    "#### Réduction des cheptels : exemple des vaches laitières"
   ]
  },
  {
   "cell_type": "code",
   "execution_count": 59,
   "metadata": {},
   "outputs": [
    {
     "data": {
      "image/png": "[encoded data removed]",
      "text/plain": [
       "<Figure size 432x288 with 2 Axes>"
      ]
     },
     "metadata": {
      "needs_background": "light"
     },
     "output_type": "display_data"
    }
   ],
   "source": [
    "france['Reduction_vaches_laitieres'] = 0\n",
    "\n",
    "for k in range(96):\n",
    "    ind = france.loc[k, 'code']\n",
    "    vaches10 = dpt.loc[ind, 'Vaches_laitieres_2010']\n",
    "    vaches50 = dpt.loc[ind, 'Vaches_laitieres_2050']\n",
    "    if vaches50 > 1:\n",
    "        france.loc[k, 'Reduction_vaches_laitieres'] = 100*vaches10/vaches50\n",
    "        \n",
    "viz('Reduction_vaches_laitieres')"
   ]
  },
  {
   "cell_type": "markdown",
   "metadata": {},
   "source": [
    "### CIMSE"
   ]
  },
  {
   "cell_type": "code",
   "execution_count": 60,
   "metadata": {},
   "outputs": [],
   "source": [
    "# On fait la même hypothèse du seuil à 4 tMS/ha\n",
    "# Les rendements sont ici des rendements moyen de récolte avec cette hypothèse\n",
    "\n",
    "france['CIMSE_2050a'] = 0\n",
    "\n",
    "for k in range(96):\n",
    "    ind = france.loc[k, 'code']\n",
    "    pe = s2050_ete[ind]*dpt.loc[ind, 'Rend_MS_ete']\n",
    "    ph = s2050_hiver[ind]*dpt.loc[ind, 'Rend_MS_hiver']\n",
    "    france.loc[k, 'CIMSE_2050a'] =  pe + ph"
   ]
  },
  {
   "cell_type": "code",
   "execution_count": 74,
   "metadata": {},
   "outputs": [
    {
     "data": {
      "image/png": "[encoded data removed]",
      "text/plain": [
       "<Figure size 432x288 with 2 Axes>"
      ]
     },
     "metadata": {
      "needs_background": "light"
     },
     "output_type": "display_data"
    }
   ],
   "source": [
    "viz('CIMSE_2050a', title = 'Récolte de cultures intermédiaires en 2050, en tonnes')"
   ]
  },
  {
   "cell_type": "code",
   "execution_count": 62,
   "metadata": {},
   "outputs": [],
   "source": [
    "# Avec les données de récolte de la base de données\n",
    "\n",
    "france['CIMSE_2050b'] = 0\n",
    "\n",
    "for k in range(96):\n",
    "    ind = france.loc[k, 'code']\n",
    "    france.loc[k, 'CIMSE_2050b'] =  dpt.loc[ind, 'CIMSES.recolte.2050']"
   ]
  },
  {
   "cell_type": "code",
   "execution_count": 63,
   "metadata": {},
   "outputs": [
    {
     "data": {
      "image/png": "[encoded data removed]",
      "text/plain": [
       "<Figure size 432x288 with 2 Axes>"
      ]
     },
     "metadata": {
      "needs_background": "light"
     },
     "output_type": "display_data"
    }
   ],
   "source": [
    "viz('CIMSE_2050b')"
   ]
  },
  {
   "cell_type": "markdown",
   "metadata": {},
   "source": [
    "On trouve des résultats extrêmement proches !"
   ]
  },
  {
   "cell_type": "markdown",
   "metadata": {},
   "source": [
    "### Déjections d'élevage"
   ]
  },
  {
   "cell_type": "code",
   "execution_count": 64,
   "metadata": {},
   "outputs": [],
   "source": [
    "# Avec la base de données\n",
    "\n",
    "france['DEJ_2050'] = 0\n",
    "\n",
    "for k in range(96):\n",
    "    ind = france.loc[k, 'code']\n",
    "    france.loc[k, 'DEJ_2050'] =  dpt.loc[ind, 'Fumier_2050':'Fientes_2050'].sum()"
   ]
  },
  {
   "cell_type": "code",
   "execution_count": 76,
   "metadata": {},
   "outputs": [
    {
     "data": {
      "image/png": "[encoded data removed]",
      "text/plain": [
       "<Figure size 432x288 with 2 Axes>"
      ]
     },
     "metadata": {
      "needs_background": "light"
     },
     "output_type": "display_data"
    }
   ],
   "source": [
    "viz('DEJ_2050', title = \"Déjections d'élevage par département en 2050, en tonnes\")"
   ]
  },
  {
   "cell_type": "code",
   "execution_count": null,
   "metadata": {},
   "outputs": [],
   "source": []
  },
  {
   "cell_type": "markdown",
   "metadata": {},
   "source": [
    "### Bois-énergie"
   ]
  },
  {
   "cell_type": "code",
   "execution_count": 66,
   "metadata": {},
   "outputs": [
    {
     "data": {
      "image/png": "[encoded data removed]",
      "text/plain": [
       "<Figure size 432x288 with 2 Axes>"
      ]
     },
     "metadata": {
      "needs_background": "light"
     },
     "output_type": "display_data"
    }
   ],
   "source": [
    "# Source : Agreste, Récolte de bois en 2019\n",
    "# Volumes en milliers de m3 de bois rond\n",
    "\n",
    "regfr['Recolte_bois'] = [1076, 7569, 2901, 1017, 4905, 5468, 873, 24, 1238, 1314, 10178, 307, 2025]\n",
    "regfr['BE'] = [295, 2238, 490, 217, 828, 917, 500, 19, 437, 638, 1116, 166, 652]\n",
    "regfr['Part_BE'] = 100*regfr['BE']/regfr['Recolte_bois'] # en pourcents\n",
    "\n",
    "viz('BE', regfr)"
   ]
  },
  {
   "cell_type": "code",
   "execution_count": 100,
   "metadata": {},
   "outputs": [
    {
     "data": {
      "image/png": "[encoded data removed]",
      "text/plain": [
       "<Figure size 432x288 with 2 Axes>"
      ]
     },
     "metadata": {
      "needs_background": "light"
     },
     "output_type": "display_data"
    }
   ],
   "source": [
    "viz('Part_BE', regfr, title = \"Part de la production de bois-énergie en 2019, en %\", color = 'cividis')"
   ]
  },
  {
   "cell_type": "code",
   "execution_count": null,
   "metadata": {},
   "outputs": [],
   "source": []
  },
  {
   "cell_type": "markdown",
   "metadata": {},
   "source": [
    "### Produits connexes de scieries"
   ]
  },
  {
   "cell_type": "code",
   "execution_count": 68,
   "metadata": {},
   "outputs": [
    {
     "data": {
      "image/png": "[encoded data removed]",
      "text/plain": [
       "<Figure size 432x288 with 2 Axes>"
      ]
     },
     "metadata": {
      "needs_background": "light"
     },
     "output_type": "display_data"
    }
   ],
   "source": [
    "# Source : Agreste\n",
    "# En milliers de tonnes\n",
    "\n",
    "regfr['PCS_hors_trituration'] = [198, 695, 418, 157, 652, 1248, 0, 0, 179, 177, 1449, 0, 93]\n",
    "\n",
    "viz('PCS_hors_trituration', regfr)"
   ]
  },
  {
   "cell_type": "code",
   "execution_count": null,
   "metadata": {},
   "outputs": [],
   "source": []
  }
 ],
 "metadata": {
  "kernelspec": {
   "display_name": "Python 3",
   "language": "python",
   "name": "python3"
  },
  "language_info": {
   "codemirror_mode": {
    "name": "ipython",
    "version": 3
   },
   "file_extension": ".py",
   "mimetype": "text/x-python",
   "name": "python",
   "nbconvert_exporter": "python",
   "pygments_lexer": "ipython3",
   "version": "3.8.3"
  }
 },
 "nbformat": 4,
 "nbformat_minor": 4
}
